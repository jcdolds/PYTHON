{
  "nbformat": 4,
  "nbformat_minor": 0,
  "metadata": {
    "colab": {
      "name": "Project_Tools_Science.ipynb",
      "provenance": []
    },
    "kernelspec": {
      "name": "python3",
      "display_name": "Python 3"
    },
    "language_info": {
      "name": "python"
    }
  },
  "cells": [
    {
      "cell_type": "markdown",
      "source": [
        "# My Jupyter Notebook on IBM Watson Studio\n",
        "\n"
      ],
      "metadata": {
        "id": "eRuPXAAHiuEt"
      }
    },
    {
      "cell_type": "markdown",
      "source": [
        "**Juan** Data Engenerie"
      ],
      "metadata": {
        "id": "2FSQkRLci7k0"
      }
    },
    {
      "cell_type": "markdown",
      "source": [
        "*I am interested in data science because make feel that I could learn and undestand everything.*"
      ],
      "metadata": {
        "id": "0GaFSBu-i7sx"
      }
    },
    {
      "cell_type": "markdown",
      "source": [
        "### My code helps to use emphtaize and document my coding."
      ],
      "metadata": {
        "id": "YyfPxFV9i71y"
      }
    },
    {
      "cell_type": "code",
      "source": [
        "x = 1 + 1\n",
        "x"
      ],
      "metadata": {
        "colab": {
          "base_uri": "https://localhost:8080/"
        },
        "id": "9959O1h3jY3K",
        "outputId": "52c32342-f8b7-4c08-bb9f-7383152ebbd3"
      },
      "execution_count": 1,
      "outputs": [
        {
          "output_type": "execute_result",
          "data": {
            "text/plain": [
              "2"
            ]
          },
          "metadata": {},
          "execution_count": 1
        }
      ]
    },
    {
      "cell_type": "markdown",
      "source": [
        "\n",
        "\n",
        "1.   it let you know hot to make list\n",
        "2.   we can use with numeric and strings\n",
        "\n"
      ],
      "metadata": {
        "id": "j-_YXfqtjRD0"
      }
    }
  ]
}